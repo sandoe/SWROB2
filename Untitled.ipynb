{
 "cells": [
  {
   "cell_type": "markdown",
   "id": "3f751bee-5d7e-47a9-9444-16397b043abd",
   "metadata": {},
   "source": [
    "# SWROB2"
   ]
  },
  {
   "cell_type": "markdown",
   "id": "ae9ac0e4-5db7-4b87-83d3-9f97e843588b",
   "metadata": {},
   "source": [
    "## Probabilistic Roadmaps (PRM)\n"
   ]
  },
  {
   "cell_type": "code",
   "execution_count": 1,
   "id": "eadf2d4a-d940-4470-9284-599e8827999c",
   "metadata": {},
   "outputs": [
    {
     "ename": "UFuncTypeError",
     "evalue": "Cannot cast ufunc 'add' output from dtype('float64') to dtype('int32') with casting rule 'same_kind'",
     "output_type": "error",
     "traceback": [
      "\u001b[1;31m---------------------------------------------------------------------------\u001b[0m",
      "\u001b[1;31mUFuncTypeError\u001b[0m                            Traceback (most recent call last)",
      "Cell \u001b[1;32mIn[1], line 43\u001b[0m\n\u001b[0;32m     41\u001b[0m \u001b[38;5;66;03m# Opdater køretøjets orientering og position (her bruger vi en meget simpel model)\u001b[39;00m\n\u001b[0;32m     42\u001b[0m current_orientation \u001b[38;5;241m+\u001b[39m\u001b[38;5;241m=\u001b[39m steering_angle  \u001b[38;5;66;03m# Dette antager øjeblikkelig drejning, hvilket ikke er realistisk\u001b[39;00m\n\u001b[1;32m---> 43\u001b[0m current_position \u001b[38;5;241m+\u001b[39m\u001b[38;5;241m=\u001b[39m np\u001b[38;5;241m.\u001b[39marray([np\u001b[38;5;241m.\u001b[39mcos(current_orientation), np\u001b[38;5;241m.\u001b[39msin(current_orientation)])\n\u001b[0;32m     45\u001b[0m \u001b[38;5;66;03m# Tegn køretøjets position\u001b[39;00m\n\u001b[0;32m     46\u001b[0m plt\u001b[38;5;241m.\u001b[39mplot(current_position[\u001b[38;5;241m0\u001b[39m], current_position[\u001b[38;5;241m1\u001b[39m], \u001b[38;5;124m'\u001b[39m\u001b[38;5;124mbo\u001b[39m\u001b[38;5;124m'\u001b[39m)\n",
      "\u001b[1;31mUFuncTypeError\u001b[0m: Cannot cast ufunc 'add' output from dtype('float64') to dtype('int32') with casting rule 'same_kind'"
     ]
    }
   ],
   "source": [
    "import numpy as np\n",
    "import matplotlib.pyplot as plt\n",
    "\n",
    "# Antag at vi har en bane defineret som en liste af punkter (x, y)\n",
    "path = np.array([[0, 0], [10, 0], [20, 10], [30, 10]])\n",
    "\n",
    "# Funktion til at finde nærmeste punkt på banen fra køretøjets nuværende position\n",
    "def find_lookahead_point(path, current_position, lookahead_distance):\n",
    "    # Find det punkt på banen, der er lookahead_distance væk fra den nuværende position\n",
    "    for i in range(len(path) - 1):\n",
    "        # Beregn afstanden fra den nuværende position til banesegmentet\n",
    "        segment_start = path[i]\n",
    "        segment_end = path[i + 1]\n",
    "        # Her kunne man indsætte en mere avanceret beregning for at finde det nøjagtige punkt\n",
    "        # For demonstrationens skyld, antager vi blot, at punktet ligger på segmentet\n",
    "        lookahead_point = segment_end\n",
    "        distance = np.linalg.norm(lookahead_point - current_position)\n",
    "        if distance >= lookahead_distance:\n",
    "            return lookahead_point\n",
    "    return None\n",
    "\n",
    "# Køretøjets nuværende position og orientering\n",
    "current_position = np.array([0, 0])\n",
    "current_orientation = 0  # Antager at orienteringen er i radianer\n",
    "\n",
    "# Definer udseende foran-afstand\n",
    "lookahead_distance = 5\n",
    "\n",
    "# Loop gennem banen\n",
    "for _ in range(100):\n",
    "    # Find målpunktet\n",
    "    lookahead_point = find_lookahead_point(path, current_position, lookahead_distance)\n",
    "    if lookahead_point is None:\n",
    "        break  # Målpunktet blev ikke fundet, antag at vi er ved enden af banen\n",
    "\n",
    "    # Beregn styrevinkel\n",
    "    angle_to_lookahead_point = np.arctan2(lookahead_point[1] - current_position[1],\n",
    "                                          lookahead_point[0] - current_position[0])\n",
    "    steering_angle = angle_to_lookahead_point - current_orientation\n",
    "\n",
    "    # Opdater køretøjets orientering og position (her bruger vi en meget simpel model)\n",
    "    current_orientation += steering_angle  # Dette antager øjeblikkelig drejning, hvilket ikke er realistisk\n",
    "    current_position += np.array([np.cos(current_orientation), np.sin(current_orientation)])\n",
    "\n",
    "    # Tegn køretøjets position\n",
    "    plt.plot(current_position[0], current_position[1], 'bo')\n",
    "\n",
    "# Tegn banen\n",
    "plt.plot(path[:, 0], path[:, 1], 'k--')\n",
    "plt.axis('equal')\n",
    "plt.show()\n"
   ]
  }
 ],
 "metadata": {
  "kernelspec": {
   "display_name": "Python 3 (ipykernel)",
   "language": "python",
   "name": "python3"
  },
  "language_info": {
   "codemirror_mode": {
    "name": "ipython",
    "version": 3
   },
   "file_extension": ".py",
   "mimetype": "text/x-python",
   "name": "python",
   "nbconvert_exporter": "python",
   "pygments_lexer": "ipython3",
   "version": "3.11.5"
  }
 },
 "nbformat": 4,
 "nbformat_minor": 5
}
